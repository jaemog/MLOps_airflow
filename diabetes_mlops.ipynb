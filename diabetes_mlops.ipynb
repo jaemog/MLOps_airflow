{
 "cells": [
  {
   "cell_type": "code",
   "execution_count": 3,
   "id": "67010863-b8f9-4230-9f47-90f74988ef20",
   "metadata": {},
   "outputs": [],
   "source": [
    "# 필요한 패키지 불러오기\n",
    "import os\n",
    "import pickle\n",
    "import numpy as np\n",
    "import pandas as pd\n",
    "from sklearn.datasets import load_diabetes\n",
    "from sklearn.ensemble import RandomForestRegressor, GradientBoostingRegressor\n",
    "from sklearn.model_selection import train_test_split\n",
    "from sklearn.metrics import mean_squared_error"
   ]
  },
  {
   "cell_type": "code",
   "execution_count": 5,
   "id": "cccb3f73-99f7-4edc-9487-5d9c0f08cccb",
   "metadata": {},
   "outputs": [],
   "source": [
    "# 데이터 저장 경로 설정\n",
    "DATA_PATH = '/tmp/airflow_diabetes'\n",
    "os.makedirs(DATA_PATH, exist_ok=True)"
   ]
  },
  {
   "cell_type": "code",
   "execution_count": 7,
   "id": "f26a95b5-c2c8-4d75-a09a-eba343c15e9b",
   "metadata": {},
   "outputs": [
    {
     "name": "stdout",
     "output_type": "stream",
     "text": [
      "✅ Feature Engineering 완료\n",
      "선택된 features: ['s6', 'bp', 'bmi', 's5']\n",
      "         s6        bp       bmi        s5  target\n",
      "0 -0.017646  0.021872  0.061696  0.019907   151.0\n",
      "1 -0.092204 -0.026328 -0.051474 -0.068332    75.0\n",
      "2 -0.025930 -0.005670  0.044451  0.002861   141.0\n",
      "3 -0.009362 -0.036656 -0.011595  0.022688   206.0\n",
      "4 -0.046641  0.021872 -0.036385 -0.031988   135.0\n"
     ]
    }
   ],
   "source": [
    "# 1️⃣ Feature Engineering\n",
    "data = load_diabetes()\n",
    "X = pd.DataFrame(data.data, columns=data.feature_names)\n",
    "y = data.target\n",
    "\n",
    "rf_selector = RandomForestRegressor()\n",
    "rf_selector.fit(X, y)\n",
    "importances = rf_selector.feature_importances_\n",
    "top_indices = np.argsort(importances)[-4:]\n",
    "\n",
    "X_selected = X.iloc[:, top_indices]\n",
    "df_selected = pd.concat([X_selected, pd.Series(y, name='target')], axis=1)\n",
    "df_selected.to_csv(os.path.join(DATA_PATH, 'selected_features.csv'), index=False)\n",
    "\n",
    "print(\"✅ Feature Engineering 완료\")\n",
    "print(\"선택된 features:\", X_selected.columns.tolist())\n",
    "print(df_selected.head())"
   ]
  },
  {
   "cell_type": "code",
   "execution_count": 9,
   "id": "e3229362-f093-41b3-a5bb-23a688cee4c2",
   "metadata": {},
   "outputs": [
    {
     "name": "stdout",
     "output_type": "stream",
     "text": [
      "\n",
      "✅ 모델 학습 완료\n"
     ]
    }
   ],
   "source": [
    "# 2️⃣ 모델 학습\n",
    "X = df_selected.drop('target', axis=1)\n",
    "y = df_selected['target']\n",
    "X_train, X_test, y_train, y_test = train_test_split(X, y, test_size=0.2)\n",
    "\n",
    "rf_model = RandomForestRegressor()\n",
    "gb_model = GradientBoostingRegressor()\n",
    "\n",
    "rf_model.fit(X_train, y_train)\n",
    "gb_model.fit(X_train, y_train)\n",
    "\n",
    "pickle.dump((rf_model, X_test, y_test), open(os.path.join(DATA_PATH, 'rf_model.pkl'), 'wb'))\n",
    "pickle.dump((gb_model, X_test, y_test), open(os.path.join(DATA_PATH, 'gb_model.pkl'), 'wb'))\n",
    "\n",
    "print(\"\\n✅ 모델 학습 완료\")\n"
   ]
  },
  {
   "cell_type": "code",
   "execution_count": 11,
   "id": "1a6d7f13-9a43-484f-9694-6ce96635f64c",
   "metadata": {},
   "outputs": [
    {
     "name": "stdout",
     "output_type": "stream",
     "text": [
      "Requirement already satisfied: scikit-learn in /opt/anaconda3/lib/python3.12/site-packages (1.7.0)\n",
      "Requirement already satisfied: numpy>=1.22.0 in /opt/anaconda3/lib/python3.12/site-packages (from scikit-learn) (1.26.4)\n",
      "Requirement already satisfied: scipy>=1.8.0 in /opt/anaconda3/lib/python3.12/site-packages (from scikit-learn) (1.13.1)\n",
      "Requirement already satisfied: joblib>=1.2.0 in /opt/anaconda3/lib/python3.12/site-packages (from scikit-learn) (1.4.2)\n",
      "Requirement already satisfied: threadpoolctl>=3.1.0 in /opt/anaconda3/lib/python3.12/site-packages (from scikit-learn) (3.5.0)\n",
      "Note: you may need to restart the kernel to use updated packages.\n"
     ]
    }
   ],
   "source": [
    "pip install -U scikit-learn\n"
   ]
  },
  {
   "cell_type": "code",
   "execution_count": 13,
   "id": "5aba482f-de33-4a7c-8e84-0906bf787f46",
   "metadata": {},
   "outputs": [],
   "source": [
    "from sklearn.metrics import mean_squared_error\n",
    "import numpy as np\n"
   ]
  },
  {
   "cell_type": "code",
   "execution_count": 19,
   "id": "7f1a6bfd-78d3-4e07-8c67-161477ea25b6",
   "metadata": {},
   "outputs": [
    {
     "name": "stdout",
     "output_type": "stream",
     "text": [
      "\n",
      "✅ 모델 비교 완료\n",
      "Random Forest RMSE: 60.8759\n",
      "Gradient Boosting RMSE: 58.6012\n",
      "선택된 모델: Gradient Boosting\n"
     ]
    }
   ],
   "source": [
    "# 3️⃣ 모델 평가 및 선택\n",
    "\n",
    "rf_model, X_test_rf, y_test_rf = pickle.load(open(os.path.join(DATA_PATH, 'rf_model.pkl'), 'rb'))\n",
    "gb_model, _, _ = pickle.load(open(os.path.join(DATA_PATH, 'gb_model.pkl'), 'rb'))\n",
    "\n",
    "# rf_rmse = mean_squared_error(y_test_rf, rf_model.predict(X_test_rf), squared=False)\n",
    "# gb_rmse = mean_squared_error(y_test_rf, gb_model.predict(X_test_rf), squared=False)\n",
    "\n",
    "\n",
    "rf_mse = mean_squared_error(y_test_rf, rf_model.predict(X_test_rf))\n",
    "rf_rmse = np.sqrt(rf_mse)\n",
    "\n",
    "gb_mse = mean_squared_error(y_test_rf, gb_model.predict(X_test_rf))\n",
    "gb_rmse = np.sqrt(gb_mse)\n",
    "best_model = rf_model if rf_rmse < gb_rmse else gb_model\n",
    "with open(os.path.join(DATA_PATH, 'best_model.pkl'), 'wb') as f:\n",
    "    pickle.dump(best_model, f)\n",
    "\n",
    "print(\"\\n✅ 모델 비교 완료\")\n",
    "print(f\"Random Forest RMSE: {rf_rmse:.4f}\")\n",
    "print(f\"Gradient Boosting RMSE: {gb_rmse:.4f}\")\n",
    "print(\"선택된 모델:\", \"Random Forest\" if best_model == rf_model else \"Gradient Boosting\")\n"
   ]
  },
  {
   "cell_type": "code",
   "execution_count": 21,
   "id": "38afc70a-8475-440f-a390-98b580b37e83",
   "metadata": {},
   "outputs": [
    {
     "name": "stdout",
     "output_type": "stream",
     "text": [
      "\n",
      "✅ 추론 완료\n",
      "   prediction\n",
      "0  193.199892\n",
      "1   86.014155\n",
      "2  167.469780\n",
      "3  181.934918\n",
      "4   99.754090\n"
     ]
    }
   ],
   "source": [
    "\n",
    "# 4️⃣ 추론 (Inference)\n",
    "df_infer = pd.read_csv(os.path.join(DATA_PATH, 'selected_features.csv')).drop('target', axis=1)\n",
    "model = pickle.load(open(os.path.join(DATA_PATH, 'best_model.pkl'), 'rb'))\n",
    "preds = model.predict(df_infer)\n",
    "\n",
    "df_preds = pd.DataFrame(preds, columns=['prediction'])\n",
    "df_preds.to_csv(os.path.join(DATA_PATH, 'inference.csv'), index=False)\n",
    "\n",
    "print(\"\\n✅ 추론 완료\")\n",
    "print(df_preds.head())\n"
   ]
  }
 ],
 "metadata": {
  "kernelspec": {
   "display_name": "Python [conda env:base] *",
   "language": "python",
   "name": "conda-base-py"
  },
  "language_info": {
   "codemirror_mode": {
    "name": "ipython",
    "version": 3
   },
   "file_extension": ".py",
   "mimetype": "text/x-python",
   "name": "python",
   "nbconvert_exporter": "python",
   "pygments_lexer": "ipython3",
   "version": "3.12.2"
  }
 },
 "nbformat": 4,
 "nbformat_minor": 5
}
